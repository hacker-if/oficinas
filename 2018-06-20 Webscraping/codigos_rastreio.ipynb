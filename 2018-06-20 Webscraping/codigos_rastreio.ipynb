{
 "cells": [
  {
   "cell_type": "markdown",
   "metadata": {},
   "source": [
    "# Coletando códigos de rastreio de um fórum de discussão\n",
    "\n",
    "Danilo Lessa Bernardineli (http://fap.if.usp.br/~danlessa)"
   ]
  },
  {
   "cell_type": "markdown",
   "metadata": {},
   "source": [
    "## Dependências, definições e coisas globais"
   ]
  },
  {
   "cell_type": "code",
   "execution_count": 1,
   "metadata": {},
   "outputs": [],
   "source": [
    "import re\n",
    "import requests as req\n",
    "import numpy as np\n",
    "import threading as th\n",
    "import matplotlib.pyplot as plt\n",
    "import pandas as pd\n",
    "import pickle as pkl"
   ]
  },
  {
   "cell_type": "code",
   "execution_count": 2,
   "metadata": {},
   "outputs": [],
   "source": [
    "regex = \"[A-Z0-9]{13,13}\"\n",
    "base_url = \"http://importabr.com.br/forum/showthread.php?228/page\"\n",
    "magic = \"Página 1 de \""
   ]
  },
  {
   "cell_type": "markdown",
   "metadata": {},
   "source": [
    "## Exploração"
   ]
  },
  {
   "cell_type": "code",
   "execution_count": 11,
   "metadata": {},
   "outputs": [
    {
     "name": "stdout",
     "output_type": "stream",
     "text": [
      "['2178319682995', 'SECURITYTOKEN', 'SIMPLEVERSION', 'AAAAAAAAAAAAA', 'QABAAQAAABQAA', 'LTE2NTE2NDA3Z', 'IDBAUEBAQEBAU', 'MDBQQFCQYGCQ0', 'AMBEQACEQEDEQ', 'ADSAAABBQEBAQ', 'EAAAAAAAAAAAA', 'BAQABBQEBAQEA', 'AAAAAAAAAAAAA', 'MEEQUGABIHIRM', 'UAAAECABEDBCE', 'DAQACEQMRAD8A', 'V5KP8A0DC71RJ', 'UUVTACWVDLDGY', 'TI2NIKSUJBJAJ', 'CXI7TT1WJKC26', '00S0RGRVIDEE7', 'UQRT7JSVJN85X', '8T25T0L81JA4Z', '0151541033010', '2869249294304', 'RB162286181HK', 'RB162286181HK', 'RB162288871HK', 'RB162288871HK', 'RB162294850HK', 'RB162294850HK', 'RB162289007HK', 'RB162289007HK', 'RB162288871HK', 'RB162288871HK', 'RB162231761HK', 'RB162231761HK', '2869249294304', 'RB091693216HK', 'RB091693216HK', 'RR934891734CN', 'RR934891734CN', 'RA079690622CN', 'RA079690622CN', 'RA052517965CN', 'RA052517965CN', 'RR848343409CN', 'RR848343409CN', 'RB175564706HK', 'RB175564706HK', 'RB297362345HK', 'RB297362345HK', 'RB179496975HK', 'RB179496975HK', 'RC004162701HK', 'RC004162701HK', 'RC004164574HK', 'RC004164574HK', 'RF061978435SG', 'RF061978435SG', 'RR955914475CN', 'RR955914475CN', 'RC037060988HK', 'RC037060988HK', 'RC037061042HK', 'RC037061042HK', 'RC037061714HK', 'RC037061714HK', 'RC037062958HK', 'RC037062958HK', 'RC037062860HK', 'RC037062860HK', 'RB162298882HK', 'RB162298882HK', 'RB162280816HK', 'RB162280816HK', 'RB162282692HK', 'RB162282692HK', 'RB162295311HK', 'RB162295311HK', 'RB162295807HK', 'RB162295807HK', 'RB162298785HK', 'RB162298785HK', 'LN166174628US', 'LN166174628US', 'RB162286181HK', 'RB162286181HK', 'RB162231761HK', 'RB162231761HK', 'INTERNACIONAL', 'INTERNACIONAL', '2869249294304', 'INTERNACIONAL', 'INTERNACIONAL', '2178319682995', 'DH03063928847']\n"
     ]
    }
   ],
   "source": [
    "pagina = 1\n",
    "url = base_url + str(pagina)\n",
    "r = req.get(url)\n",
    "raw = r.text\n",
    "codigos_rastreio = re.findall(regex, raw)\n",
    "print(codigos_rastreio)"
   ]
  },
  {
   "cell_type": "code",
   "execution_count": 12,
   "metadata": {},
   "outputs": [
    {
     "name": "stdout",
     "output_type": "stream",
     "text": [
      "3181\n"
     ]
    }
   ],
   "source": [
    "# Mágica para pegar a contagem de páginas\n",
    "\n",
    "r = req.get(base_url)\n",
    "ind_magic = r.text.find(magic) + len(magic)\n",
    "after_magic = r.text[ind_magic:]\n",
    "ind2 = after_magic.find(\"</\")\n",
    "page_count = int(after_magic[:ind2])\n",
    "print(page_count)"
   ]
  }
 ],
 "metadata": {
  "kernelspec": {
   "display_name": "Python 3",
   "language": "python",
   "name": "python3"
  },
  "language_info": {
   "codemirror_mode": {
    "name": "ipython",
    "version": 3
   },
   "file_extension": ".py",
   "mimetype": "text/x-python",
   "name": "python",
   "nbconvert_exporter": "python",
   "pygments_lexer": "ipython3",
   "version": "3.6.3"
  }
 },
 "nbformat": 4,
 "nbformat_minor": 2
}
