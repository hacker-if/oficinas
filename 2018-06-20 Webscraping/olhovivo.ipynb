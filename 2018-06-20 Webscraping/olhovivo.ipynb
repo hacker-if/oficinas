{
 "cells": [
  {
   "cell_type": "markdown",
   "metadata": {},
   "source": [
    "# API do Olho Vivo\n",
    "\n",
    "Danilo Lessa Bernardineli (http://fap.if.usp.br/~danlessa)"
   ]
  },
  {
   "cell_type": "markdown",
   "metadata": {},
   "source": [
    "Esse notebook mostra rapidamente como acessar a API do Olhovivo.\n",
    "\n",
    "A documentação do mesmo é encontrada em http://www.sptrans.com.br/desenvolvedores/APIOlhoVivo/Documentacao.aspx\n",
    "\n",
    "O token pode ser obtido em http://www.sptrans.com.br/desenvolvedores/"
   ]
  },
  {
   "cell_type": "markdown",
   "metadata": {},
   "source": [
    "## Dependências, definições e coisas globais"
   ]
  },
  {
   "cell_type": "code",
   "execution_count": 20,
   "metadata": {},
   "outputs": [],
   "source": [
    "# Dependências\n",
    "\n",
    "import pandas as pd\n",
    "import numpy as np\n",
    "import requests as req\n",
    "import json\n",
    "import pickle as pkl"
   ]
  },
  {
   "cell_type": "code",
   "execution_count": 2,
   "metadata": {},
   "outputs": [],
   "source": [
    "# Constantes\n",
    "\n",
    "token_acesso = \"ab0855f97de16ac2b98e82920f6f07b1539ec2fc666d2b559303011bb057a25a\"\n",
    "url_api = \"http://api.olhovivo.sptrans.com.br/v2.1\""
   ]
  },
  {
   "cell_type": "code",
   "execution_count": 3,
   "metadata": {},
   "outputs": [],
   "source": [
    "# Coisas globais\n",
    "\n",
    "cookies = None"
   ]
  },
  {
   "cell_type": "markdown",
   "metadata": {},
   "source": [
    "## Exploração"
   ]
  },
  {
   "cell_type": "markdown",
   "metadata": {},
   "source": [
    "### Autenticação"
   ]
  },
  {
   "cell_type": "code",
   "execution_count": 4,
   "metadata": {},
   "outputs": [
    {
     "name": "stdout",
     "output_type": "stream",
     "text": [
      "true\n"
     ]
    }
   ],
   "source": [
    "# Logar na SPTrans e ver o que rola\n",
    "\n",
    "action_uri = url_api + \"/Login/Autenticar?token={}\".format(token_acesso)\n",
    "r = req.post(action_uri, cookies=cookies)\n",
    "cookies = r.cookies\n",
    "print(r.text)"
   ]
  },
  {
   "cell_type": "markdown",
   "metadata": {},
   "source": [
    "### Pesquisar linhas"
   ]
  },
  {
   "cell_type": "code",
   "execution_count": 21,
   "metadata": {},
   "outputs": [
    {
     "name": "stdout",
     "output_type": "stream",
     "text": [
      "[{\"cl\":2506,\"lc\":false,\"lt\":\"8000\",\"sl\":1,\"tl\":1,\"tp\":\"PÇA. RAMOS DE AZEVEDO\",\"ts\":\"TERM. LAPA\"},{\"cl\":35274,\"lc\":false,\"lt\":\"8000\",\"sl\":2,\"tl\":1,\"tp\":\"PÇA. RAMOS DE AZEVEDO\",\"ts\":\"TERM. LAPA\"},{\"cl\":1273,\"lc\":false,\"lt\":\"8000\",\"sl\":1,\"tl\":10,\"tp\":\"PÇA. RAMOS DE AZEVEDO\",\"ts\":\"TERM. LAPA\"},{\"cl\":34041,\"lc\":false,\"lt\":\"8000\",\"sl\":2,\"tl\":10,\"tp\":\"PÇA. RAMOS DE AZEVEDO\",\"ts\":\"TERM. LAPA\"}]\n"
     ]
    }
   ],
   "source": [
    "# Logar na SPTrans e ver o que rola\n",
    "action_uri = url_api + \"/Linha/Buscar?termosBusca={}\".format(8000)\n",
    "r = req.get(action_uri, cookies=cookies)\n",
    "output = r.text\n",
    "print(r.text)"
   ]
  },
  {
   "cell_type": "code",
   "execution_count": 28,
   "metadata": {},
   "outputs": [
    {
     "name": "stdout",
     "output_type": "stream",
     "text": [
      "{'cl': 2506, 'lc': False, 'lt': '8000', 'sl': 1, 'tl': 1, 'tp': 'PÇA. RAMOS DE AZEVEDO', 'ts': 'TERM. LAPA'}\n"
     ]
    }
   ],
   "source": [
    "output_json = json.loads(output)\n",
    "print(output_json[0])"
   ]
  },
  {
   "cell_type": "code",
   "execution_count": 33,
   "metadata": {},
   "outputs": [
    {
     "data": {
      "text/html": [
       "<div>\n",
       "<style scoped>\n",
       "    .dataframe tbody tr th:only-of-type {\n",
       "        vertical-align: middle;\n",
       "    }\n",
       "\n",
       "    .dataframe tbody tr th {\n",
       "        vertical-align: top;\n",
       "    }\n",
       "\n",
       "    .dataframe thead th {\n",
       "        text-align: right;\n",
       "    }\n",
       "</style>\n",
       "<table border=\"1\" class=\"dataframe\">\n",
       "  <thead>\n",
       "    <tr style=\"text-align: right;\">\n",
       "      <th></th>\n",
       "      <th>cl</th>\n",
       "      <th>lc</th>\n",
       "      <th>lt</th>\n",
       "      <th>sl</th>\n",
       "      <th>tl</th>\n",
       "      <th>tp</th>\n",
       "      <th>ts</th>\n",
       "    </tr>\n",
       "  </thead>\n",
       "  <tbody>\n",
       "    <tr>\n",
       "      <th>0</th>\n",
       "      <td>2506</td>\n",
       "      <td>False</td>\n",
       "      <td>8000</td>\n",
       "      <td>1</td>\n",
       "      <td>1</td>\n",
       "      <td>PÇA. RAMOS DE AZEVEDO</td>\n",
       "      <td>TERM. LAPA</td>\n",
       "    </tr>\n",
       "    <tr>\n",
       "      <th>1</th>\n",
       "      <td>35274</td>\n",
       "      <td>False</td>\n",
       "      <td>8000</td>\n",
       "      <td>2</td>\n",
       "      <td>1</td>\n",
       "      <td>PÇA. RAMOS DE AZEVEDO</td>\n",
       "      <td>TERM. LAPA</td>\n",
       "    </tr>\n",
       "    <tr>\n",
       "      <th>2</th>\n",
       "      <td>1273</td>\n",
       "      <td>False</td>\n",
       "      <td>8000</td>\n",
       "      <td>1</td>\n",
       "      <td>10</td>\n",
       "      <td>PÇA. RAMOS DE AZEVEDO</td>\n",
       "      <td>TERM. LAPA</td>\n",
       "    </tr>\n",
       "    <tr>\n",
       "      <th>3</th>\n",
       "      <td>34041</td>\n",
       "      <td>False</td>\n",
       "      <td>8000</td>\n",
       "      <td>2</td>\n",
       "      <td>10</td>\n",
       "      <td>PÇA. RAMOS DE AZEVEDO</td>\n",
       "      <td>TERM. LAPA</td>\n",
       "    </tr>\n",
       "  </tbody>\n",
       "</table>\n",
       "</div>"
      ],
      "text/plain": [
       "      cl     lc    lt  sl  tl                     tp          ts\n",
       "0   2506  False  8000   1   1  PÇA. RAMOS DE AZEVEDO  TERM. LAPA\n",
       "1  35274  False  8000   2   1  PÇA. RAMOS DE AZEVEDO  TERM. LAPA\n",
       "2   1273  False  8000   1  10  PÇA. RAMOS DE AZEVEDO  TERM. LAPA\n",
       "3  34041  False  8000   2  10  PÇA. RAMOS DE AZEVEDO  TERM. LAPA"
      ]
     },
     "execution_count": 33,
     "metadata": {},
     "output_type": "execute_result"
    }
   ],
   "source": [
    "df = pd.DataFrame(output_json)\n",
    "df"
   ]
  },
  {
   "cell_type": "code",
   "execution_count": 35,
   "metadata": {},
   "outputs": [],
   "source": [
    "df.columns = [\"onibus\", \"a\", \"linha\", \"2\", \"3\", \"destino\", \"sentido\"]"
   ]
  },
  {
   "cell_type": "code",
   "execution_count": 36,
   "metadata": {},
   "outputs": [
    {
     "data": {
      "text/html": [
       "<div>\n",
       "<style scoped>\n",
       "    .dataframe tbody tr th:only-of-type {\n",
       "        vertical-align: middle;\n",
       "    }\n",
       "\n",
       "    .dataframe tbody tr th {\n",
       "        vertical-align: top;\n",
       "    }\n",
       "\n",
       "    .dataframe thead th {\n",
       "        text-align: right;\n",
       "    }\n",
       "</style>\n",
       "<table border=\"1\" class=\"dataframe\">\n",
       "  <thead>\n",
       "    <tr style=\"text-align: right;\">\n",
       "      <th></th>\n",
       "      <th>onibus</th>\n",
       "      <th>a</th>\n",
       "      <th>linha</th>\n",
       "      <th>2</th>\n",
       "      <th>3</th>\n",
       "      <th>destino</th>\n",
       "      <th>sentido</th>\n",
       "    </tr>\n",
       "  </thead>\n",
       "  <tbody>\n",
       "    <tr>\n",
       "      <th>0</th>\n",
       "      <td>2506</td>\n",
       "      <td>False</td>\n",
       "      <td>8000</td>\n",
       "      <td>1</td>\n",
       "      <td>1</td>\n",
       "      <td>PÇA. RAMOS DE AZEVEDO</td>\n",
       "      <td>TERM. LAPA</td>\n",
       "    </tr>\n",
       "    <tr>\n",
       "      <th>1</th>\n",
       "      <td>35274</td>\n",
       "      <td>False</td>\n",
       "      <td>8000</td>\n",
       "      <td>2</td>\n",
       "      <td>1</td>\n",
       "      <td>PÇA. RAMOS DE AZEVEDO</td>\n",
       "      <td>TERM. LAPA</td>\n",
       "    </tr>\n",
       "    <tr>\n",
       "      <th>2</th>\n",
       "      <td>1273</td>\n",
       "      <td>False</td>\n",
       "      <td>8000</td>\n",
       "      <td>1</td>\n",
       "      <td>10</td>\n",
       "      <td>PÇA. RAMOS DE AZEVEDO</td>\n",
       "      <td>TERM. LAPA</td>\n",
       "    </tr>\n",
       "    <tr>\n",
       "      <th>3</th>\n",
       "      <td>34041</td>\n",
       "      <td>False</td>\n",
       "      <td>8000</td>\n",
       "      <td>2</td>\n",
       "      <td>10</td>\n",
       "      <td>PÇA. RAMOS DE AZEVEDO</td>\n",
       "      <td>TERM. LAPA</td>\n",
       "    </tr>\n",
       "  </tbody>\n",
       "</table>\n",
       "</div>"
      ],
      "text/plain": [
       "   onibus      a linha  2   3                destino     sentido\n",
       "0    2506  False  8000  1   1  PÇA. RAMOS DE AZEVEDO  TERM. LAPA\n",
       "1   35274  False  8000  2   1  PÇA. RAMOS DE AZEVEDO  TERM. LAPA\n",
       "2    1273  False  8000  1  10  PÇA. RAMOS DE AZEVEDO  TERM. LAPA\n",
       "3   34041  False  8000  2  10  PÇA. RAMOS DE AZEVEDO  TERM. LAPA"
      ]
     },
     "execution_count": 36,
     "metadata": {},
     "output_type": "execute_result"
    }
   ],
   "source": [
    "df"
   ]
  },
  {
   "cell_type": "markdown",
   "metadata": {},
   "source": [
    "### Pegar posições dos ônibus (linha)"
   ]
  },
  {
   "cell_type": "code",
   "execution_count": 57,
   "metadata": {},
   "outputs": [
    {
     "name": "stdout",
     "output_type": "stream",
     "text": [
      "{\"hr\":\"14:35\",\"vs\":[{\"p\":\"11096\",\"a\":false,\"ta\":\"2018-06-20T17:32:08Z\",\"py\":-23.495889,\"px\":-46.6772735},{\"p\":\"11100\",\"a\":false,\"ta\":\"2018-06-20T17:33:22Z\",\"py\":-23.474276500000002,\"px\":-46.668260875},{\"p\":\"11980\",\"a\":true,\"ta\":\"2018-06-20T17:33:55Z\",\"py\":-23.5229225,\"px\":-46.664518},{\"p\":\"11097\",\"a\":false,\"ta\":\"2018-06-20T17:33:23Z\",\"py\":-23.535142,\"px\":-46.644700375},{\"p\":\"11098\",\"a\":false,\"ta\":\"2018-06-20T17:33:25Z\",\"py\":-23.528579999999998,\"px\":-46.661607}]}\n"
     ]
    }
   ],
   "source": [
    "linha = 466\n",
    "action_uri = url_api + \"/Posicao/Linha?codigoLinha={}\".format(linha)\n",
    "r = req.get(action_uri, cookies=cookies)\n",
    "output = r.text\n",
    "output_json = json.loads(output)\n",
    "print(output)"
   ]
  },
  {
   "cell_type": "code",
   "execution_count": 58,
   "metadata": {},
   "outputs": [
    {
     "data": {
      "text/plain": [
       "dict_keys(['hr', 'vs'])"
      ]
     },
     "execution_count": 58,
     "metadata": {},
     "output_type": "execute_result"
    }
   ],
   "source": [
    "output_json.keys()"
   ]
  },
  {
   "cell_type": "code",
   "execution_count": 59,
   "metadata": {},
   "outputs": [],
   "source": [
    "df = pd.DataFrame(output_json[\"vs\"])"
   ]
  },
  {
   "cell_type": "code",
   "execution_count": 60,
   "metadata": {},
   "outputs": [],
   "source": [
    "df.columns = [\"Ida\", \"Onibus\", \"Longitude\", \"Latitude\", \"Timestamp\"]\n",
    "df[\"Linha\"] = linha"
   ]
  },
  {
   "cell_type": "code",
   "execution_count": 61,
   "metadata": {},
   "outputs": [
    {
     "data": {
      "text/html": [
       "<div>\n",
       "<style scoped>\n",
       "    .dataframe tbody tr th:only-of-type {\n",
       "        vertical-align: middle;\n",
       "    }\n",
       "\n",
       "    .dataframe tbody tr th {\n",
       "        vertical-align: top;\n",
       "    }\n",
       "\n",
       "    .dataframe thead th {\n",
       "        text-align: right;\n",
       "    }\n",
       "</style>\n",
       "<table border=\"1\" class=\"dataframe\">\n",
       "  <thead>\n",
       "    <tr style=\"text-align: right;\">\n",
       "      <th></th>\n",
       "      <th>Ida</th>\n",
       "      <th>Onibus</th>\n",
       "      <th>Longitude</th>\n",
       "      <th>Latitude</th>\n",
       "      <th>Timestamp</th>\n",
       "      <th>Linha</th>\n",
       "    </tr>\n",
       "  </thead>\n",
       "  <tbody>\n",
       "    <tr>\n",
       "      <th>0</th>\n",
       "      <td>False</td>\n",
       "      <td>11096</td>\n",
       "      <td>-46.677273</td>\n",
       "      <td>-23.495889</td>\n",
       "      <td>2018-06-20T17:32:08Z</td>\n",
       "      <td>466</td>\n",
       "    </tr>\n",
       "    <tr>\n",
       "      <th>1</th>\n",
       "      <td>False</td>\n",
       "      <td>11100</td>\n",
       "      <td>-46.668261</td>\n",
       "      <td>-23.474277</td>\n",
       "      <td>2018-06-20T17:33:22Z</td>\n",
       "      <td>466</td>\n",
       "    </tr>\n",
       "    <tr>\n",
       "      <th>2</th>\n",
       "      <td>True</td>\n",
       "      <td>11980</td>\n",
       "      <td>-46.664518</td>\n",
       "      <td>-23.522922</td>\n",
       "      <td>2018-06-20T17:33:55Z</td>\n",
       "      <td>466</td>\n",
       "    </tr>\n",
       "    <tr>\n",
       "      <th>3</th>\n",
       "      <td>False</td>\n",
       "      <td>11097</td>\n",
       "      <td>-46.644700</td>\n",
       "      <td>-23.535142</td>\n",
       "      <td>2018-06-20T17:33:23Z</td>\n",
       "      <td>466</td>\n",
       "    </tr>\n",
       "    <tr>\n",
       "      <th>4</th>\n",
       "      <td>False</td>\n",
       "      <td>11098</td>\n",
       "      <td>-46.661607</td>\n",
       "      <td>-23.528580</td>\n",
       "      <td>2018-06-20T17:33:25Z</td>\n",
       "      <td>466</td>\n",
       "    </tr>\n",
       "  </tbody>\n",
       "</table>\n",
       "</div>"
      ],
      "text/plain": [
       "     Ida Onibus  Longitude   Latitude             Timestamp  Linha\n",
       "0  False  11096 -46.677273 -23.495889  2018-06-20T17:32:08Z    466\n",
       "1  False  11100 -46.668261 -23.474277  2018-06-20T17:33:22Z    466\n",
       "2   True  11980 -46.664518 -23.522922  2018-06-20T17:33:55Z    466\n",
       "3  False  11097 -46.644700 -23.535142  2018-06-20T17:33:23Z    466\n",
       "4  False  11098 -46.661607 -23.528580  2018-06-20T17:33:25Z    466"
      ]
     },
     "execution_count": 61,
     "metadata": {},
     "output_type": "execute_result"
    }
   ],
   "source": [
    "df"
   ]
  },
  {
   "cell_type": "markdown",
   "metadata": {},
   "source": [
    "### Pegar posições dos ônibus (geral)"
   ]
  },
  {
   "cell_type": "code",
   "execution_count": 62,
   "metadata": {},
   "outputs": [
    {
     "name": "stdout",
     "output_type": "stream",
     "text": [
      "{\"hr\":\"14:35\",\"l\":[{\"c\":\"5011-10\",\"cl\":1115,\"sl\":1,\"lt0\":\"STO. AMARO\",\"lt1\":\"ELDORADO\",\"qv\":10,\"vs\":\n"
     ]
    }
   ],
   "source": [
    "# Logar na SPTrans e ver o que rola\n",
    "action_uri = url_api + \"/Posicao\"\n",
    "r = req.get(action_uri, cookies=cookies)\n",
    "output = r.text\n",
    "output_json = json.loads(output)\n",
    "print(r.text[:100])"
   ]
  },
  {
   "cell_type": "code",
   "execution_count": 63,
   "metadata": {},
   "outputs": [
    {
     "data": {
      "text/plain": [
       "dict_keys(['hr', 'l'])"
      ]
     },
     "execution_count": 63,
     "metadata": {},
     "output_type": "execute_result"
    }
   ],
   "source": [
    "output_json.keys()"
   ]
  },
  {
   "cell_type": "code",
   "execution_count": 64,
   "metadata": {},
   "outputs": [
    {
     "data": {
      "text/html": [
       "<div>\n",
       "<style scoped>\n",
       "    .dataframe tbody tr th:only-of-type {\n",
       "        vertical-align: middle;\n",
       "    }\n",
       "\n",
       "    .dataframe tbody tr th {\n",
       "        vertical-align: top;\n",
       "    }\n",
       "\n",
       "    .dataframe thead th {\n",
       "        text-align: right;\n",
       "    }\n",
       "</style>\n",
       "<table border=\"1\" class=\"dataframe\">\n",
       "  <thead>\n",
       "    <tr style=\"text-align: right;\">\n",
       "      <th></th>\n",
       "      <th>c</th>\n",
       "      <th>cl</th>\n",
       "      <th>lt0</th>\n",
       "      <th>lt1</th>\n",
       "      <th>qv</th>\n",
       "      <th>sl</th>\n",
       "      <th>vs</th>\n",
       "    </tr>\n",
       "  </thead>\n",
       "  <tbody>\n",
       "    <tr>\n",
       "      <th>0</th>\n",
       "      <td>5011-10</td>\n",
       "      <td>1115</td>\n",
       "      <td>STO. AMARO</td>\n",
       "      <td>ELDORADO</td>\n",
       "      <td>10</td>\n",
       "      <td>1</td>\n",
       "      <td>[{'p': 68430, 'a': True, 'ta': '2018-06-20T17:...</td>\n",
       "    </tr>\n",
       "    <tr>\n",
       "      <th>1</th>\n",
       "      <td>978L-10</td>\n",
       "      <td>466</td>\n",
       "      <td>TERM. PRINC. ISABEL</td>\n",
       "      <td>TERM. CACHOEIRINHA</td>\n",
       "      <td>5</td>\n",
       "      <td>1</td>\n",
       "      <td>[{'p': 11096, 'a': False, 'ta': '2018-06-20T17...</td>\n",
       "    </tr>\n",
       "    <tr>\n",
       "      <th>2</th>\n",
       "      <td>5362-10</td>\n",
       "      <td>70</td>\n",
       "      <td>PÇA. DA SÉ</td>\n",
       "      <td>PQ. RES. COCAIA</td>\n",
       "      <td>13</td>\n",
       "      <td>1</td>\n",
       "      <td>[{'p': 61615, 'a': True, 'ta': '2018-06-20T17:...</td>\n",
       "    </tr>\n",
       "    <tr>\n",
       "      <th>3</th>\n",
       "      <td>675K-10</td>\n",
       "      <td>198</td>\n",
       "      <td>METRÔ STA. CRUZ</td>\n",
       "      <td>TERM. JD. ÂNGELA</td>\n",
       "      <td>12</td>\n",
       "      <td>1</td>\n",
       "      <td>[{'p': 73877, 'a': True, 'ta': '2018-06-20T17:...</td>\n",
       "    </tr>\n",
       "    <tr>\n",
       "      <th>4</th>\n",
       "      <td>6022-10</td>\n",
       "      <td>1207</td>\n",
       "      <td>STO. AMARO</td>\n",
       "      <td>PQ. CEREJEIRA</td>\n",
       "      <td>4</td>\n",
       "      <td>1</td>\n",
       "      <td>[{'p': 78488, 'a': True, 'ta': '2018-06-20T17:...</td>\n",
       "    </tr>\n",
       "  </tbody>\n",
       "</table>\n",
       "</div>"
      ],
      "text/plain": [
       "         c    cl                  lt0                 lt1  qv  sl  \\\n",
       "0  5011-10  1115           STO. AMARO            ELDORADO  10   1   \n",
       "1  978L-10   466  TERM. PRINC. ISABEL  TERM. CACHOEIRINHA   5   1   \n",
       "2  5362-10    70           PÇA. DA SÉ     PQ. RES. COCAIA  13   1   \n",
       "3  675K-10   198      METRÔ STA. CRUZ    TERM. JD. ÂNGELA  12   1   \n",
       "4  6022-10  1207           STO. AMARO       PQ. CEREJEIRA   4   1   \n",
       "\n",
       "                                                  vs  \n",
       "0  [{'p': 68430, 'a': True, 'ta': '2018-06-20T17:...  \n",
       "1  [{'p': 11096, 'a': False, 'ta': '2018-06-20T17...  \n",
       "2  [{'p': 61615, 'a': True, 'ta': '2018-06-20T17:...  \n",
       "3  [{'p': 73877, 'a': True, 'ta': '2018-06-20T17:...  \n",
       "4  [{'p': 78488, 'a': True, 'ta': '2018-06-20T17:...  "
      ]
     },
     "execution_count": 64,
     "metadata": {},
     "output_type": "execute_result"
    }
   ],
   "source": [
    "pd.DataFrame(output_json[\"l\"]).head(5)"
   ]
  },
  {
   "cell_type": "markdown",
   "metadata": {},
   "source": [
    "## Extração"
   ]
  },
  {
   "cell_type": "code",
   "execution_count": 76,
   "metadata": {},
   "outputs": [],
   "source": [
    "output_posicoes = []\n",
    "\n",
    "for linha in range(466, 476):\n",
    "    action_uri = url_api + \"/Posicao/Linha?codigoLinha={}\".format(linha)\n",
    "    r = req.get(action_uri, cookies=cookies)\n",
    "    output = r.text\n",
    "    output_json = json.loads(output)\n",
    "    df = pd.DataFrame(output_json[\"vs\"])\n",
    "    if len(df) > 0 :\n",
    "        df.columns = [\"Ida\", \"Onibus\", \"Longitude\", \"Latitude\", \"Timestamp\"]\n",
    "        df[\"Linha\"] = linha\n",
    "        output_posicoes.append(df)"
   ]
  },
  {
   "cell_type": "code",
   "execution_count": 77,
   "metadata": {},
   "outputs": [],
   "source": [
    "df = pd.concat(output_posicoes)"
   ]
  },
  {
   "cell_type": "code",
   "execution_count": 78,
   "metadata": {},
   "outputs": [
    {
     "data": {
      "text/html": [
       "<div>\n",
       "<style scoped>\n",
       "    .dataframe tbody tr th:only-of-type {\n",
       "        vertical-align: middle;\n",
       "    }\n",
       "\n",
       "    .dataframe tbody tr th {\n",
       "        vertical-align: top;\n",
       "    }\n",
       "\n",
       "    .dataframe thead th {\n",
       "        text-align: right;\n",
       "    }\n",
       "</style>\n",
       "<table border=\"1\" class=\"dataframe\">\n",
       "  <thead>\n",
       "    <tr style=\"text-align: right;\">\n",
       "      <th></th>\n",
       "      <th>Ida</th>\n",
       "      <th>Onibus</th>\n",
       "      <th>Longitude</th>\n",
       "      <th>Latitude</th>\n",
       "      <th>Timestamp</th>\n",
       "      <th>Linha</th>\n",
       "    </tr>\n",
       "  </thead>\n",
       "  <tbody>\n",
       "    <tr>\n",
       "      <th>0</th>\n",
       "      <td>False</td>\n",
       "      <td>11096</td>\n",
       "      <td>-46.673250</td>\n",
       "      <td>-23.505985</td>\n",
       "      <td>2018-06-20T17:37:36Z</td>\n",
       "      <td>466</td>\n",
       "    </tr>\n",
       "    <tr>\n",
       "      <th>1</th>\n",
       "      <td>False</td>\n",
       "      <td>11100</td>\n",
       "      <td>-46.672950</td>\n",
       "      <td>-23.479852</td>\n",
       "      <td>2018-06-20T17:37:52Z</td>\n",
       "      <td>466</td>\n",
       "    </tr>\n",
       "    <tr>\n",
       "      <th>2</th>\n",
       "      <td>True</td>\n",
       "      <td>11980</td>\n",
       "      <td>-46.660823</td>\n",
       "      <td>-23.527275</td>\n",
       "      <td>2018-06-20T17:37:53Z</td>\n",
       "      <td>466</td>\n",
       "    </tr>\n",
       "    <tr>\n",
       "      <th>3</th>\n",
       "      <td>False</td>\n",
       "      <td>11098</td>\n",
       "      <td>-46.655797</td>\n",
       "      <td>-23.533821</td>\n",
       "      <td>2018-06-20T17:37:28Z</td>\n",
       "      <td>466</td>\n",
       "    </tr>\n",
       "    <tr>\n",
       "      <th>0</th>\n",
       "      <td>True</td>\n",
       "      <td>81891</td>\n",
       "      <td>-46.691208</td>\n",
       "      <td>-23.565766</td>\n",
       "      <td>2018-06-20T17:38:02Z</td>\n",
       "      <td>468</td>\n",
       "    </tr>\n",
       "    <tr>\n",
       "      <th>1</th>\n",
       "      <td>False</td>\n",
       "      <td>81826</td>\n",
       "      <td>-46.731731</td>\n",
       "      <td>-23.592173</td>\n",
       "      <td>2018-06-20T17:37:59Z</td>\n",
       "      <td>468</td>\n",
       "    </tr>\n",
       "    <tr>\n",
       "      <th>2</th>\n",
       "      <td>True</td>\n",
       "      <td>81866</td>\n",
       "      <td>-46.667170</td>\n",
       "      <td>-23.571322</td>\n",
       "      <td>2018-06-20T17:37:49Z</td>\n",
       "      <td>468</td>\n",
       "    </tr>\n",
       "    <tr>\n",
       "      <th>3</th>\n",
       "      <td>True</td>\n",
       "      <td>81031</td>\n",
       "      <td>-46.765423</td>\n",
       "      <td>-23.598582</td>\n",
       "      <td>2018-06-20T17:37:20Z</td>\n",
       "      <td>468</td>\n",
       "    </tr>\n",
       "    <tr>\n",
       "      <th>4</th>\n",
       "      <td>True</td>\n",
       "      <td>81219</td>\n",
       "      <td>-46.639628</td>\n",
       "      <td>-23.549518</td>\n",
       "      <td>2018-06-20T17:37:34Z</td>\n",
       "      <td>468</td>\n",
       "    </tr>\n",
       "    <tr>\n",
       "      <th>0</th>\n",
       "      <td>True</td>\n",
       "      <td>81981</td>\n",
       "      <td>-46.659599</td>\n",
       "      <td>-23.554470</td>\n",
       "      <td>2018-06-20T17:37:51Z</td>\n",
       "      <td>469</td>\n",
       "    </tr>\n",
       "    <tr>\n",
       "      <th>1</th>\n",
       "      <td>True</td>\n",
       "      <td>81183</td>\n",
       "      <td>-46.757852</td>\n",
       "      <td>-23.567189</td>\n",
       "      <td>2018-06-20T17:37:53Z</td>\n",
       "      <td>469</td>\n",
       "    </tr>\n",
       "    <tr>\n",
       "      <th>2</th>\n",
       "      <td>True</td>\n",
       "      <td>81983</td>\n",
       "      <td>-46.664816</td>\n",
       "      <td>-23.526843</td>\n",
       "      <td>2018-06-20T17:37:34Z</td>\n",
       "      <td>469</td>\n",
       "    </tr>\n",
       "    <tr>\n",
       "      <th>3</th>\n",
       "      <td>True</td>\n",
       "      <td>81341</td>\n",
       "      <td>-46.665611</td>\n",
       "      <td>-23.526244</td>\n",
       "      <td>2018-06-20T17:37:03Z</td>\n",
       "      <td>469</td>\n",
       "    </tr>\n",
       "    <tr>\n",
       "      <th>4</th>\n",
       "      <td>True</td>\n",
       "      <td>81979</td>\n",
       "      <td>-46.728357</td>\n",
       "      <td>-23.574815</td>\n",
       "      <td>2018-06-20T17:37:05Z</td>\n",
       "      <td>469</td>\n",
       "    </tr>\n",
       "    <tr>\n",
       "      <th>5</th>\n",
       "      <td>True</td>\n",
       "      <td>81042</td>\n",
       "      <td>-46.764756</td>\n",
       "      <td>-23.562787</td>\n",
       "      <td>2018-06-20T17:37:21Z</td>\n",
       "      <td>469</td>\n",
       "    </tr>\n",
       "    <tr>\n",
       "      <th>6</th>\n",
       "      <td>True</td>\n",
       "      <td>81064</td>\n",
       "      <td>-46.709950</td>\n",
       "      <td>-23.570855</td>\n",
       "      <td>2018-06-20T17:37:35Z</td>\n",
       "      <td>469</td>\n",
       "    </tr>\n",
       "    <tr>\n",
       "      <th>7</th>\n",
       "      <td>False</td>\n",
       "      <td>81808</td>\n",
       "      <td>-46.734219</td>\n",
       "      <td>-23.573938</td>\n",
       "      <td>2018-06-20T17:38:01Z</td>\n",
       "      <td>469</td>\n",
       "    </tr>\n",
       "    <tr>\n",
       "      <th>8</th>\n",
       "      <td>True</td>\n",
       "      <td>81283</td>\n",
       "      <td>-46.764756</td>\n",
       "      <td>-23.562787</td>\n",
       "      <td>2018-06-20T17:37:29Z</td>\n",
       "      <td>469</td>\n",
       "    </tr>\n",
       "    <tr>\n",
       "      <th>0</th>\n",
       "      <td>True</td>\n",
       "      <td>82455</td>\n",
       "      <td>-46.674384</td>\n",
       "      <td>-23.552719</td>\n",
       "      <td>2018-06-20T17:37:47Z</td>\n",
       "      <td>471</td>\n",
       "    </tr>\n",
       "    <tr>\n",
       "      <th>1</th>\n",
       "      <td>True</td>\n",
       "      <td>82387</td>\n",
       "      <td>-46.761267</td>\n",
       "      <td>-23.547394</td>\n",
       "      <td>2018-06-20T17:38:05Z</td>\n",
       "      <td>471</td>\n",
       "    </tr>\n",
       "    <tr>\n",
       "      <th>2</th>\n",
       "      <td>True</td>\n",
       "      <td>82248</td>\n",
       "      <td>-46.704705</td>\n",
       "      <td>-23.540087</td>\n",
       "      <td>2018-06-20T17:37:24Z</td>\n",
       "      <td>471</td>\n",
       "    </tr>\n",
       "    <tr>\n",
       "      <th>0</th>\n",
       "      <td>True</td>\n",
       "      <td>81149</td>\n",
       "      <td>-46.756717</td>\n",
       "      <td>-23.568756</td>\n",
       "      <td>2018-06-20T17:37:51Z</td>\n",
       "      <td>472</td>\n",
       "    </tr>\n",
       "    <tr>\n",
       "      <th>1</th>\n",
       "      <td>True</td>\n",
       "      <td>81275</td>\n",
       "      <td>-46.697727</td>\n",
       "      <td>-23.523354</td>\n",
       "      <td>2018-06-20T17:36:42Z</td>\n",
       "      <td>472</td>\n",
       "    </tr>\n",
       "    <tr>\n",
       "      <th>2</th>\n",
       "      <td>True</td>\n",
       "      <td>81029</td>\n",
       "      <td>-46.762785</td>\n",
       "      <td>-23.566262</td>\n",
       "      <td>2018-06-20T17:37:33Z</td>\n",
       "      <td>472</td>\n",
       "    </tr>\n",
       "    <tr>\n",
       "      <th>3</th>\n",
       "      <td>True</td>\n",
       "      <td>81277</td>\n",
       "      <td>-46.711616</td>\n",
       "      <td>-23.558689</td>\n",
       "      <td>2018-06-20T17:35:09Z</td>\n",
       "      <td>472</td>\n",
       "    </tr>\n",
       "    <tr>\n",
       "      <th>0</th>\n",
       "      <td>True</td>\n",
       "      <td>81138</td>\n",
       "      <td>-46.732749</td>\n",
       "      <td>-23.573712</td>\n",
       "      <td>2018-06-20T17:37:04Z</td>\n",
       "      <td>473</td>\n",
       "    </tr>\n",
       "    <tr>\n",
       "      <th>1</th>\n",
       "      <td>True</td>\n",
       "      <td>81285</td>\n",
       "      <td>-46.687772</td>\n",
       "      <td>-23.575933</td>\n",
       "      <td>2018-06-20T17:37:51Z</td>\n",
       "      <td>473</td>\n",
       "    </tr>\n",
       "    <tr>\n",
       "      <th>0</th>\n",
       "      <td>True</td>\n",
       "      <td>81123</td>\n",
       "      <td>-46.692417</td>\n",
       "      <td>-23.545323</td>\n",
       "      <td>2018-06-20T17:37:25Z</td>\n",
       "      <td>474</td>\n",
       "    </tr>\n",
       "    <tr>\n",
       "      <th>1</th>\n",
       "      <td>True</td>\n",
       "      <td>81302</td>\n",
       "      <td>-46.746481</td>\n",
       "      <td>-23.558444</td>\n",
       "      <td>2018-06-20T17:37:38Z</td>\n",
       "      <td>474</td>\n",
       "    </tr>\n",
       "    <tr>\n",
       "      <th>0</th>\n",
       "      <td>True</td>\n",
       "      <td>81276</td>\n",
       "      <td>-46.760666</td>\n",
       "      <td>-23.572961</td>\n",
       "      <td>2018-06-20T17:37:31Z</td>\n",
       "      <td>475</td>\n",
       "    </tr>\n",
       "    <tr>\n",
       "      <th>1</th>\n",
       "      <td>True</td>\n",
       "      <td>81077</td>\n",
       "      <td>-46.730542</td>\n",
       "      <td>-23.574096</td>\n",
       "      <td>2018-06-20T17:36:28Z</td>\n",
       "      <td>475</td>\n",
       "    </tr>\n",
       "    <tr>\n",
       "      <th>2</th>\n",
       "      <td>True</td>\n",
       "      <td>81234</td>\n",
       "      <td>-46.765613</td>\n",
       "      <td>-23.576533</td>\n",
       "      <td>2018-06-20T17:37:19Z</td>\n",
       "      <td>475</td>\n",
       "    </tr>\n",
       "    <tr>\n",
       "      <th>3</th>\n",
       "      <td>True</td>\n",
       "      <td>81127</td>\n",
       "      <td>-46.689132</td>\n",
       "      <td>-23.573713</td>\n",
       "      <td>2018-06-20T17:37:45Z</td>\n",
       "      <td>475</td>\n",
       "    </tr>\n",
       "  </tbody>\n",
       "</table>\n",
       "</div>"
      ],
      "text/plain": [
       "     Ida Onibus  Longitude   Latitude             Timestamp  Linha\n",
       "0  False  11096 -46.673250 -23.505985  2018-06-20T17:37:36Z    466\n",
       "1  False  11100 -46.672950 -23.479852  2018-06-20T17:37:52Z    466\n",
       "2   True  11980 -46.660823 -23.527275  2018-06-20T17:37:53Z    466\n",
       "3  False  11098 -46.655797 -23.533821  2018-06-20T17:37:28Z    466\n",
       "0   True  81891 -46.691208 -23.565766  2018-06-20T17:38:02Z    468\n",
       "1  False  81826 -46.731731 -23.592173  2018-06-20T17:37:59Z    468\n",
       "2   True  81866 -46.667170 -23.571322  2018-06-20T17:37:49Z    468\n",
       "3   True  81031 -46.765423 -23.598582  2018-06-20T17:37:20Z    468\n",
       "4   True  81219 -46.639628 -23.549518  2018-06-20T17:37:34Z    468\n",
       "0   True  81981 -46.659599 -23.554470  2018-06-20T17:37:51Z    469\n",
       "1   True  81183 -46.757852 -23.567189  2018-06-20T17:37:53Z    469\n",
       "2   True  81983 -46.664816 -23.526843  2018-06-20T17:37:34Z    469\n",
       "3   True  81341 -46.665611 -23.526244  2018-06-20T17:37:03Z    469\n",
       "4   True  81979 -46.728357 -23.574815  2018-06-20T17:37:05Z    469\n",
       "5   True  81042 -46.764756 -23.562787  2018-06-20T17:37:21Z    469\n",
       "6   True  81064 -46.709950 -23.570855  2018-06-20T17:37:35Z    469\n",
       "7  False  81808 -46.734219 -23.573938  2018-06-20T17:38:01Z    469\n",
       "8   True  81283 -46.764756 -23.562787  2018-06-20T17:37:29Z    469\n",
       "0   True  82455 -46.674384 -23.552719  2018-06-20T17:37:47Z    471\n",
       "1   True  82387 -46.761267 -23.547394  2018-06-20T17:38:05Z    471\n",
       "2   True  82248 -46.704705 -23.540087  2018-06-20T17:37:24Z    471\n",
       "0   True  81149 -46.756717 -23.568756  2018-06-20T17:37:51Z    472\n",
       "1   True  81275 -46.697727 -23.523354  2018-06-20T17:36:42Z    472\n",
       "2   True  81029 -46.762785 -23.566262  2018-06-20T17:37:33Z    472\n",
       "3   True  81277 -46.711616 -23.558689  2018-06-20T17:35:09Z    472\n",
       "0   True  81138 -46.732749 -23.573712  2018-06-20T17:37:04Z    473\n",
       "1   True  81285 -46.687772 -23.575933  2018-06-20T17:37:51Z    473\n",
       "0   True  81123 -46.692417 -23.545323  2018-06-20T17:37:25Z    474\n",
       "1   True  81302 -46.746481 -23.558444  2018-06-20T17:37:38Z    474\n",
       "0   True  81276 -46.760666 -23.572961  2018-06-20T17:37:31Z    475\n",
       "1   True  81077 -46.730542 -23.574096  2018-06-20T17:36:28Z    475\n",
       "2   True  81234 -46.765613 -23.576533  2018-06-20T17:37:19Z    475\n",
       "3   True  81127 -46.689132 -23.573713  2018-06-20T17:37:45Z    475"
      ]
     },
     "execution_count": 78,
     "metadata": {},
     "output_type": "execute_result"
    }
   ],
   "source": [
    "df"
   ]
  },
  {
   "cell_type": "code",
   "execution_count": null,
   "metadata": {},
   "outputs": [],
   "source": []
  }
 ],
 "metadata": {
  "kernelspec": {
   "display_name": "Python 3",
   "language": "python",
   "name": "python3"
  },
  "language_info": {
   "codemirror_mode": {
    "name": "ipython",
    "version": 3
   },
   "file_extension": ".py",
   "mimetype": "text/x-python",
   "name": "python",
   "nbconvert_exporter": "python",
   "pygments_lexer": "ipython3",
   "version": "3.6.3"
  }
 },
 "nbformat": 4,
 "nbformat_minor": 2
}
